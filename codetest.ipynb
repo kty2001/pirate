{
 "cells": [
  {
   "cell_type": "code",
   "execution_count": null,
   "id": "13a060f3",
   "metadata": {},
   "outputs": [],
   "source": []
  }
 ],
 "metadata": {
  "kernelspec": {
   "display_name": "pirate",
   "language": "python",
   "name": "python3"
  },
  "language_info": {
   "name": "python",
   "version": "3.11.11"
  }
 },
 "nbformat": 4,
 "nbformat_minor": 5
}
